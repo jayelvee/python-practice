{
 "cells": [
  {
   "cell_type": "code",
   "execution_count": null,
   "metadata": {
    "collapsed": false
   },
   "outputs": [],
   "source": [
    "# Reverse a list\n",
    "\n",
    "test_cases = [[], [1], [1, 2], [1, 2, 3], [1, 2, 3, 4], [1, 2, 3, 4, 5], [2, 2, 1, 10, 2, 2]]\n",
    "test_funcs = [iterative_reverse, recursivse_reverse]\n",
    "\n",
    "for func in test_funcs:\n",
    "    for case in test_cases:\n",
    "        print(func(case[:]))\n"
   ]
  },
  {
   "cell_type": "code",
   "execution_count": null,
   "metadata": {
    "collapsed": false
   },
   "outputs": [],
   "source": [
    "def iterative_reverse(list_):\n",
    "    \"\"\" O(n) reversal, in-place, by iterating from both ends of the \n",
    "        list up to the midpoint (where i == j). Handles even/odd size\n",
    "        lists, as well as single items or empty lists.\n",
    "        \n",
    "        Optimisations: check if the items to be switched are equal, don't swap if \n",
    "        they are.\n",
    "    \"\"\"\n",
    "    \n",
    "    i, j = 0, len(list_) - 1\n",
    "    while (i < j):\n",
    "        if list_[i] != list_[j]:\n",
    "            list_[i], list_[j] = list_[j], list_[i]\n",
    "        i += 1\n",
    "        j -= 1\n",
    "    return list_"
   ]
  },
  {
   "cell_type": "code",
   "execution_count": null,
   "metadata": {
    "collapsed": true
   },
   "outputs": [],
   "source": [
    "def recursive_reverse(list_):\n",
    "    \"\"\" O(n) reversal, additional space for recursion stack. \"\"\"\n",
    "    if len(list_) <= 1:\n",
    "        return list_\n",
    "    else:\n",
    "        return recursive_reverse(list_[1:]) + [list_[0]] "
   ]
  }
 ],
 "metadata": {
  "kernelspec": {
   "display_name": "Python 3",
   "language": "python",
   "name": "python3"
  },
  "language_info": {
   "codemirror_mode": {
    "name": "ipython",
    "version": 3
   },
   "file_extension": ".py",
   "mimetype": "text/x-python",
   "name": "python",
   "nbconvert_exporter": "python",
   "pygments_lexer": "ipython3",
   "version": "3.5.1"
  }
 },
 "nbformat": 4,
 "nbformat_minor": 0
}
